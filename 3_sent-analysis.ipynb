{
 "cells": [
  {
   "cell_type": "code",
   "execution_count": 1,
   "metadata": {},
   "outputs": [],
   "source": [
    "import numpy as np\n",
    "import pandas as pd"
   ]
  },
  {
   "cell_type": "code",
   "execution_count": 2,
   "metadata": {},
   "outputs": [],
   "source": [
    "from tensorflow.python.keras.models import Sequential\n",
    "from tensorflow.python.keras.layers import Dense, GRU, Embedding, CuDNNGRU\n",
    "from tensorflow.python.keras.optimizers import Adam\n",
    "from tensorflow.python.keras.preprocessing.text import Tokenizer\n",
    "from tensorflow.python.keras.preprocessing.sequence import pad_sequences"
   ]
  },
  {
   "cell_type": "code",
   "execution_count": 132,
   "metadata": {},
   "outputs": [],
   "source": [
    "dataset = pd.read_csv(\"C:\\\\Users\\\\H P\\\\Desktop\\\\data\\\\10_udemy vahit kurs şam\\\\NLP\\\\metin_madenciligi\\\\train.tsv\", sep = \"\\t\")"
   ]
  },
  {
   "cell_type": "code",
   "execution_count": 133,
   "metadata": {},
   "outputs": [
    {
     "data": {
      "text/html": [
       "<div>\n",
       "<style scoped>\n",
       "    .dataframe tbody tr th:only-of-type {\n",
       "        vertical-align: middle;\n",
       "    }\n",
       "\n",
       "    .dataframe tbody tr th {\n",
       "        vertical-align: top;\n",
       "    }\n",
       "\n",
       "    .dataframe thead th {\n",
       "        text-align: right;\n",
       "    }\n",
       "</style>\n",
       "<table border=\"1\" class=\"dataframe\">\n",
       "  <thead>\n",
       "    <tr style=\"text-align: right;\">\n",
       "      <th></th>\n",
       "      <th>PhraseId</th>\n",
       "      <th>SentenceId</th>\n",
       "      <th>Phrase</th>\n",
       "      <th>Sentiment</th>\n",
       "    </tr>\n",
       "  </thead>\n",
       "  <tbody>\n",
       "    <tr>\n",
       "      <th>0</th>\n",
       "      <td>1</td>\n",
       "      <td>1</td>\n",
       "      <td>A series of escapades demonstrating the adage ...</td>\n",
       "      <td>1</td>\n",
       "    </tr>\n",
       "    <tr>\n",
       "      <th>1</th>\n",
       "      <td>2</td>\n",
       "      <td>1</td>\n",
       "      <td>A series of escapades demonstrating the adage ...</td>\n",
       "      <td>2</td>\n",
       "    </tr>\n",
       "    <tr>\n",
       "      <th>2</th>\n",
       "      <td>3</td>\n",
       "      <td>1</td>\n",
       "      <td>A series</td>\n",
       "      <td>2</td>\n",
       "    </tr>\n",
       "    <tr>\n",
       "      <th>3</th>\n",
       "      <td>4</td>\n",
       "      <td>1</td>\n",
       "      <td>A</td>\n",
       "      <td>2</td>\n",
       "    </tr>\n",
       "    <tr>\n",
       "      <th>4</th>\n",
       "      <td>5</td>\n",
       "      <td>1</td>\n",
       "      <td>series</td>\n",
       "      <td>2</td>\n",
       "    </tr>\n",
       "  </tbody>\n",
       "</table>\n",
       "</div>"
      ],
      "text/plain": [
       "   PhraseId  SentenceId                                             Phrase  \\\n",
       "0         1           1  A series of escapades demonstrating the adage ...   \n",
       "1         2           1  A series of escapades demonstrating the adage ...   \n",
       "2         3           1                                           A series   \n",
       "3         4           1                                                  A   \n",
       "4         5           1                                             series   \n",
       "\n",
       "   Sentiment  \n",
       "0          1  \n",
       "1          2  \n",
       "2          2  \n",
       "3          2  \n",
       "4          2  "
      ]
     },
     "execution_count": 133,
     "metadata": {},
     "output_type": "execute_result"
    }
   ],
   "source": [
    "dataset.head()"
   ]
  },
  {
   "cell_type": "code",
   "execution_count": 134,
   "metadata": {},
   "outputs": [],
   "source": [
    "dataset[\"Sentiment\"].replace(0, value = \"negatif\", inplace = True)\n",
    "dataset[\"Sentiment\"].replace(1, value = \"negatif\", inplace = True)\n",
    "dataset[\"Sentiment\"].replace(3, value = \"pozitif\", inplace = True)\n",
    "dataset[\"Sentiment\"].replace(4, value = \"pozitif\", inplace = True)"
   ]
  },
  {
   "cell_type": "code",
   "execution_count": 135,
   "metadata": {},
   "outputs": [
    {
     "data": {
      "text/html": [
       "<div>\n",
       "<style scoped>\n",
       "    .dataframe tbody tr th:only-of-type {\n",
       "        vertical-align: middle;\n",
       "    }\n",
       "\n",
       "    .dataframe tbody tr th {\n",
       "        vertical-align: top;\n",
       "    }\n",
       "\n",
       "    .dataframe thead th {\n",
       "        text-align: right;\n",
       "    }\n",
       "</style>\n",
       "<table border=\"1\" class=\"dataframe\">\n",
       "  <thead>\n",
       "    <tr style=\"text-align: right;\">\n",
       "      <th></th>\n",
       "      <th>PhraseId</th>\n",
       "      <th>SentenceId</th>\n",
       "      <th>Phrase</th>\n",
       "      <th>Sentiment</th>\n",
       "    </tr>\n",
       "  </thead>\n",
       "  <tbody>\n",
       "    <tr>\n",
       "      <th>0</th>\n",
       "      <td>1</td>\n",
       "      <td>1</td>\n",
       "      <td>A series of escapades demonstrating the adage ...</td>\n",
       "      <td>negatif</td>\n",
       "    </tr>\n",
       "    <tr>\n",
       "      <th>1</th>\n",
       "      <td>2</td>\n",
       "      <td>1</td>\n",
       "      <td>A series of escapades demonstrating the adage ...</td>\n",
       "      <td>2</td>\n",
       "    </tr>\n",
       "    <tr>\n",
       "      <th>2</th>\n",
       "      <td>3</td>\n",
       "      <td>1</td>\n",
       "      <td>A series</td>\n",
       "      <td>2</td>\n",
       "    </tr>\n",
       "    <tr>\n",
       "      <th>3</th>\n",
       "      <td>4</td>\n",
       "      <td>1</td>\n",
       "      <td>A</td>\n",
       "      <td>2</td>\n",
       "    </tr>\n",
       "    <tr>\n",
       "      <th>4</th>\n",
       "      <td>5</td>\n",
       "      <td>1</td>\n",
       "      <td>series</td>\n",
       "      <td>2</td>\n",
       "    </tr>\n",
       "  </tbody>\n",
       "</table>\n",
       "</div>"
      ],
      "text/plain": [
       "   PhraseId  SentenceId                                             Phrase  \\\n",
       "0         1           1  A series of escapades demonstrating the adage ...   \n",
       "1         2           1  A series of escapades demonstrating the adage ...   \n",
       "2         3           1                                           A series   \n",
       "3         4           1                                                  A   \n",
       "4         5           1                                             series   \n",
       "\n",
       "  Sentiment  \n",
       "0   negatif  \n",
       "1         2  \n",
       "2         2  \n",
       "3         2  \n",
       "4         2  "
      ]
     },
     "execution_count": 135,
     "metadata": {},
     "output_type": "execute_result"
    }
   ],
   "source": [
    "dataset.head()"
   ]
  },
  {
   "cell_type": "code",
   "execution_count": 136,
   "metadata": {},
   "outputs": [],
   "source": [
    "dataset = dataset[(dataset.Sentiment == \"negatif\") | (dataset.Sentiment == \"pozitif\")]"
   ]
  },
  {
   "cell_type": "code",
   "execution_count": 137,
   "metadata": {},
   "outputs": [
    {
     "data": {
      "text/html": [
       "<div>\n",
       "<style scoped>\n",
       "    .dataframe tbody tr th:only-of-type {\n",
       "        vertical-align: middle;\n",
       "    }\n",
       "\n",
       "    .dataframe tbody tr th {\n",
       "        vertical-align: top;\n",
       "    }\n",
       "\n",
       "    .dataframe thead th {\n",
       "        text-align: right;\n",
       "    }\n",
       "</style>\n",
       "<table border=\"1\" class=\"dataframe\">\n",
       "  <thead>\n",
       "    <tr style=\"text-align: right;\">\n",
       "      <th></th>\n",
       "      <th>PhraseId</th>\n",
       "      <th>SentenceId</th>\n",
       "      <th>Phrase</th>\n",
       "      <th>Sentiment</th>\n",
       "    </tr>\n",
       "  </thead>\n",
       "  <tbody>\n",
       "    <tr>\n",
       "      <th>0</th>\n",
       "      <td>1</td>\n",
       "      <td>1</td>\n",
       "      <td>A series of escapades demonstrating the adage ...</td>\n",
       "      <td>negatif</td>\n",
       "    </tr>\n",
       "    <tr>\n",
       "      <th>21</th>\n",
       "      <td>22</td>\n",
       "      <td>1</td>\n",
       "      <td>good for the goose</td>\n",
       "      <td>pozitif</td>\n",
       "    </tr>\n",
       "    <tr>\n",
       "      <th>22</th>\n",
       "      <td>23</td>\n",
       "      <td>1</td>\n",
       "      <td>good</td>\n",
       "      <td>pozitif</td>\n",
       "    </tr>\n",
       "    <tr>\n",
       "      <th>33</th>\n",
       "      <td>34</td>\n",
       "      <td>1</td>\n",
       "      <td>the gander , some of which occasionally amuses...</td>\n",
       "      <td>negatif</td>\n",
       "    </tr>\n",
       "    <tr>\n",
       "      <th>46</th>\n",
       "      <td>47</td>\n",
       "      <td>1</td>\n",
       "      <td>amuses</td>\n",
       "      <td>pozitif</td>\n",
       "    </tr>\n",
       "  </tbody>\n",
       "</table>\n",
       "</div>"
      ],
      "text/plain": [
       "    PhraseId  SentenceId                                             Phrase  \\\n",
       "0          1           1  A series of escapades demonstrating the adage ...   \n",
       "21        22           1                                 good for the goose   \n",
       "22        23           1                                               good   \n",
       "33        34           1  the gander , some of which occasionally amuses...   \n",
       "46        47           1                                             amuses   \n",
       "\n",
       "   Sentiment  \n",
       "0    negatif  \n",
       "21   pozitif  \n",
       "22   pozitif  \n",
       "33   negatif  \n",
       "46   pozitif  "
      ]
     },
     "execution_count": 137,
     "metadata": {},
     "output_type": "execute_result"
    }
   ],
   "source": [
    "dataset.head()"
   ]
  },
  {
   "cell_type": "code",
   "execution_count": 138,
   "metadata": {},
   "outputs": [],
   "source": [
    "dataset[\"Sentiment\"].replace(\"negatif\", value = 0, inplace = True)\n",
    "dataset[\"Sentiment\"].replace(\"pozitif\", value = 1, inplace = True)"
   ]
  },
  {
   "cell_type": "code",
   "execution_count": 139,
   "metadata": {},
   "outputs": [
    {
     "data": {
      "text/html": [
       "<div>\n",
       "<style scoped>\n",
       "    .dataframe tbody tr th:only-of-type {\n",
       "        vertical-align: middle;\n",
       "    }\n",
       "\n",
       "    .dataframe tbody tr th {\n",
       "        vertical-align: top;\n",
       "    }\n",
       "\n",
       "    .dataframe thead th {\n",
       "        text-align: right;\n",
       "    }\n",
       "</style>\n",
       "<table border=\"1\" class=\"dataframe\">\n",
       "  <thead>\n",
       "    <tr style=\"text-align: right;\">\n",
       "      <th></th>\n",
       "      <th>PhraseId</th>\n",
       "      <th>SentenceId</th>\n",
       "      <th>Phrase</th>\n",
       "      <th>Sentiment</th>\n",
       "    </tr>\n",
       "  </thead>\n",
       "  <tbody>\n",
       "    <tr>\n",
       "      <th>0</th>\n",
       "      <td>1</td>\n",
       "      <td>1</td>\n",
       "      <td>A series of escapades demonstrating the adage ...</td>\n",
       "      <td>0</td>\n",
       "    </tr>\n",
       "    <tr>\n",
       "      <th>21</th>\n",
       "      <td>22</td>\n",
       "      <td>1</td>\n",
       "      <td>good for the goose</td>\n",
       "      <td>1</td>\n",
       "    </tr>\n",
       "    <tr>\n",
       "      <th>22</th>\n",
       "      <td>23</td>\n",
       "      <td>1</td>\n",
       "      <td>good</td>\n",
       "      <td>1</td>\n",
       "    </tr>\n",
       "    <tr>\n",
       "      <th>33</th>\n",
       "      <td>34</td>\n",
       "      <td>1</td>\n",
       "      <td>the gander , some of which occasionally amuses...</td>\n",
       "      <td>0</td>\n",
       "    </tr>\n",
       "    <tr>\n",
       "      <th>46</th>\n",
       "      <td>47</td>\n",
       "      <td>1</td>\n",
       "      <td>amuses</td>\n",
       "      <td>1</td>\n",
       "    </tr>\n",
       "  </tbody>\n",
       "</table>\n",
       "</div>"
      ],
      "text/plain": [
       "    PhraseId  SentenceId                                             Phrase  \\\n",
       "0          1           1  A series of escapades demonstrating the adage ...   \n",
       "21        22           1                                 good for the goose   \n",
       "22        23           1                                               good   \n",
       "33        34           1  the gander , some of which occasionally amuses...   \n",
       "46        47           1                                             amuses   \n",
       "\n",
       "    Sentiment  \n",
       "0           0  \n",
       "21          1  \n",
       "22          1  \n",
       "33          0  \n",
       "46          1  "
      ]
     },
     "execution_count": 139,
     "metadata": {},
     "output_type": "execute_result"
    }
   ],
   "source": [
    "dataset.head()"
   ]
  },
  {
   "cell_type": "code",
   "execution_count": 140,
   "metadata": {},
   "outputs": [],
   "source": [
    "target = dataset['Sentiment'].values.tolist()\n",
    "data = dataset['Phrase'].values.tolist()"
   ]
  },
  {
   "cell_type": "code",
   "execution_count": 141,
   "metadata": {},
   "outputs": [
    {
     "data": {
      "text/plain": [
       "[0, 1, 1, 0, 1, 0, 0, 1, 1, 1]"
      ]
     },
     "execution_count": 141,
     "metadata": {},
     "output_type": "execute_result"
    }
   ],
   "source": [
    "target[:10]"
   ]
  },
  {
   "cell_type": "code",
   "execution_count": 142,
   "metadata": {},
   "outputs": [
    {
     "data": {
      "text/plain": [
       "['A series of escapades demonstrating the adage that what is good for the goose is also good for the gander , some of which occasionally amuses but none of which amounts to much of a story .',\n",
       " 'good for the goose',\n",
       " 'good',\n",
       " 'the gander , some of which occasionally amuses but none of which amounts to much of a story',\n",
       " 'amuses',\n",
       " 'but none of which amounts to much of a story',\n",
       " 'none of which amounts to much of a story',\n",
       " 'This quiet , introspective and entertaining independent is worth seeking .',\n",
       " 'This quiet , introspective and entertaining independent',\n",
       " 'quiet , introspective and entertaining independent']"
      ]
     },
     "execution_count": 142,
     "metadata": {},
     "output_type": "execute_result"
    }
   ],
   "source": [
    "data[:10]"
   ]
  },
  {
   "cell_type": "code",
   "execution_count": 143,
   "metadata": {},
   "outputs": [],
   "source": [
    "cutoff = int(len(data) * 0.80)\n",
    "x_train, x_test = data[:cutoff], data[cutoff:]\n",
    "y_train, y_test = target[:cutoff], target[cutoff:]"
   ]
  },
  {
   "cell_type": "code",
   "execution_count": 144,
   "metadata": {},
   "outputs": [
    {
     "data": {
      "text/plain": [
       "\"'s little to recommend Snow Dogs , unless one considers cliched dialogue and perverse escapism a source of high hilarity\""
      ]
     },
     "execution_count": 144,
     "metadata": {},
     "output_type": "execute_result"
    }
   ],
   "source": [
    "x_train[100]"
   ]
  },
  {
   "cell_type": "code",
   "execution_count": 145,
   "metadata": {},
   "outputs": [
    {
     "data": {
      "text/plain": [
       "\"'s a pretty good execution of a story that 's a lot richer than the ones Hollywood action screenwriters usually come up with on their own .\""
      ]
     },
     "execution_count": 145,
     "metadata": {},
     "output_type": "execute_result"
    }
   ],
   "source": [
    "x_train[800]"
   ]
  },
  {
   "cell_type": "code",
   "execution_count": 146,
   "metadata": {},
   "outputs": [
    {
     "data": {
      "text/plain": [
       "1"
      ]
     },
     "execution_count": 146,
     "metadata": {},
     "output_type": "execute_result"
    }
   ],
   "source": [
    "y_train[800]"
   ]
  },
  {
   "cell_type": "code",
   "execution_count": 147,
   "metadata": {},
   "outputs": [
    {
     "data": {
      "text/plain": [
       "{0, 1}"
      ]
     },
     "execution_count": 147,
     "metadata": {},
     "output_type": "execute_result"
    }
   ],
   "source": [
    "set(y_train)"
   ]
  },
  {
   "cell_type": "code",
   "execution_count": 148,
   "metadata": {},
   "outputs": [],
   "source": [
    "num_words = 10000\n",
    "tokenizer = Tokenizer(num_words=num_words)"
   ]
  },
  {
   "cell_type": "code",
   "execution_count": 149,
   "metadata": {},
   "outputs": [],
   "source": [
    "tokenizer.fit_on_texts(data)"
   ]
  },
  {
   "cell_type": "code",
   "execution_count": 101,
   "metadata": {},
   "outputs": [
    {
     "data": {
      "text/plain": [
       "{'the': 1,\n",
       " 'a': 2,\n",
       " 'and': 3,\n",
       " 'of': 4,\n",
       " 'to': 5,\n",
       " \"'s\": 6,\n",
       " 'is': 7,\n",
       " 'that': 8,\n",
       " 'in': 9,\n",
       " 'it': 10,\n",
       " 'as': 11,\n",
       " 'with': 12,\n",
       " 'for': 13,\n",
       " 'an': 14,\n",
       " 'film': 15,\n",
       " 'its': 16,\n",
       " 'movie': 17,\n",
       " 'this': 18,\n",
       " 'but': 19,\n",
       " 'be': 20,\n",
       " 'you': 21,\n",
       " 'on': 22,\n",
       " \"n't\": 23,\n",
       " 'by': 24,\n",
       " 'more': 25,\n",
       " 'one': 26,\n",
       " 'not': 27,\n",
       " 'at': 28,\n",
       " 'than': 29,\n",
       " 'from': 30,\n",
       " 'has': 31,\n",
       " 'about': 32,\n",
       " 'his': 33,\n",
       " 'all': 34,\n",
       " 'are': 35,\n",
       " 'so': 36,\n",
       " 'like': 37,\n",
       " 'or': 38,\n",
       " 'have': 39,\n",
       " 'good': 40,\n",
       " 'out': 41,\n",
       " 'too': 42,\n",
       " 'most': 43,\n",
       " 'story': 44,\n",
       " \"'\": 45,\n",
       " 'up': 46,\n",
       " 'into': 47,\n",
       " 'who': 48,\n",
       " 'rrb': 49,\n",
       " 'funny': 50,\n",
       " 'characters': 51,\n",
       " 'no': 52,\n",
       " 'i': 53,\n",
       " 'comedy': 54,\n",
       " 'lrb': 55,\n",
       " 'well': 56,\n",
       " 'if': 57,\n",
       " 'just': 58,\n",
       " 'much': 59,\n",
       " 'time': 60,\n",
       " 'does': 61,\n",
       " 'can': 62,\n",
       " 'what': 63,\n",
       " 'even': 64,\n",
       " 'some': 65,\n",
       " 'your': 66,\n",
       " 'very': 67,\n",
       " 'will': 68,\n",
       " 'their': 69,\n",
       " 'little': 70,\n",
       " 'bad': 71,\n",
       " 'life': 72,\n",
       " 'way': 73,\n",
       " \"''\": 74,\n",
       " 'which': 75,\n",
       " 'been': 76,\n",
       " 'best': 77,\n",
       " 'make': 78,\n",
       " 'any': 79,\n",
       " 'love': 80,\n",
       " 'enough': 81,\n",
       " 'there': 82,\n",
       " 'work': 83,\n",
       " 'he': 84,\n",
       " 'only': 85,\n",
       " 'made': 86,\n",
       " 'do': 87,\n",
       " 'never': 88,\n",
       " 'director': 89,\n",
       " 'new': 90,\n",
       " 'movies': 91,\n",
       " 'action': 92,\n",
       " 'makes': 93,\n",
       " 'us': 94,\n",
       " 'something': 95,\n",
       " 'was': 96,\n",
       " 'off': 97,\n",
       " 'through': 98,\n",
       " 'they': 99,\n",
       " 'would': 100,\n",
       " 'great': 101,\n",
       " 'own': 102,\n",
       " 'old': 103,\n",
       " 'many': 104,\n",
       " 'drama': 105,\n",
       " 'humor': 106,\n",
       " 'two': 107,\n",
       " 'her': 108,\n",
       " 'really': 109,\n",
       " 'we': 110,\n",
       " 'self': 111,\n",
       " 'plot': 112,\n",
       " 'see': 113,\n",
       " 'fun': 114,\n",
       " 'how': 115,\n",
       " 'could': 116,\n",
       " 'performances': 117,\n",
       " 'feel': 118,\n",
       " 'audience': 119,\n",
       " 'other': 120,\n",
       " 'sense': 121,\n",
       " 'better': 122,\n",
       " 'being': 123,\n",
       " 'without': 124,\n",
       " 'character': 125,\n",
       " 'films': 126,\n",
       " 'people': 127,\n",
       " 'first': 128,\n",
       " 'when': 129,\n",
       " 'such': 130,\n",
       " 'real': 131,\n",
       " 'look': 132,\n",
       " 'long': 133,\n",
       " 'may': 134,\n",
       " 'over': 135,\n",
       " 'cast': 136,\n",
       " 'should': 137,\n",
       " 'world': 138,\n",
       " 'performance': 139,\n",
       " 'every': 140,\n",
       " 'still': 141,\n",
       " 'nothing': 142,\n",
       " 'both': 143,\n",
       " 'heart': 144,\n",
       " 'them': 145,\n",
       " 'ever': 146,\n",
       " 'down': 147,\n",
       " 'entertaining': 148,\n",
       " 'interesting': 149,\n",
       " 'often': 150,\n",
       " 'big': 151,\n",
       " 'screen': 152,\n",
       " 'acting': 153,\n",
       " 'year': 154,\n",
       " 'hard': 155,\n",
       " 'another': 156,\n",
       " 'also': 157,\n",
       " 'while': 158,\n",
       " 'those': 159,\n",
       " 'minutes': 160,\n",
       " 'script': 161,\n",
       " \"'re\": 162,\n",
       " 'far': 163,\n",
       " 'few': 164,\n",
       " 'get': 165,\n",
       " 'hollywood': 166,\n",
       " 'because': 167,\n",
       " 'kind': 168,\n",
       " 'watch': 169,\n",
       " 'dialogue': 170,\n",
       " 'less': 171,\n",
       " 'moments': 172,\n",
       " 'rather': 173,\n",
       " 'family': 174,\n",
       " 'man': 175,\n",
       " 'thriller': 176,\n",
       " 'human': 177,\n",
       " 'original': 178,\n",
       " 'might': 179,\n",
       " 'end': 180,\n",
       " 'had': 181,\n",
       " 'emotional': 182,\n",
       " 'almost': 183,\n",
       " 'right': 184,\n",
       " 'compelling': 185,\n",
       " 'actors': 186,\n",
       " 'material': 187,\n",
       " 'worth': 188,\n",
       " 'picture': 189,\n",
       " 'tale': 190,\n",
       " 'cinema': 191,\n",
       " 'after': 192,\n",
       " 'full': 193,\n",
       " 'romantic': 194,\n",
       " 'seen': 195,\n",
       " 'quite': 196,\n",
       " 'documentary': 197,\n",
       " 'things': 198,\n",
       " 'back': 199,\n",
       " 'watching': 200,\n",
       " 'our': 201,\n",
       " 'itself': 202,\n",
       " 'before': 203,\n",
       " 'between': 204,\n",
       " 'my': 205,\n",
       " 'find': 206,\n",
       " 'take': 207,\n",
       " 'here': 208,\n",
       " 'these': 209,\n",
       " 'were': 210,\n",
       " 'yet': 211,\n",
       " 'comes': 212,\n",
       " 'scenes': 213,\n",
       " 'sweet': 214,\n",
       " \"'ve\": 215,\n",
       " 'seem': 216,\n",
       " 'seems': 217,\n",
       " 'visual': 218,\n",
       " 'go': 219,\n",
       " 'moving': 220,\n",
       " 'dull': 221,\n",
       " 'feels': 222,\n",
       " 'lot': 223,\n",
       " 'ca': 224,\n",
       " 'fascinating': 225,\n",
       " 'me': 226,\n",
       " 'works': 227,\n",
       " 'american': 228,\n",
       " 'style': 229,\n",
       " 'high': 230,\n",
       " 'star': 231,\n",
       " 'special': 232,\n",
       " 'half': 233,\n",
       " 'times': 234,\n",
       " 'piece': 235,\n",
       " 'ultimately': 236,\n",
       " 'young': 237,\n",
       " 'music': 238,\n",
       " 'making': 239,\n",
       " \"'ll\": 240,\n",
       " 'keep': 241,\n",
       " 'going': 242,\n",
       " 'care': 243,\n",
       " 'give': 244,\n",
       " 'come': 245,\n",
       " 'years': 246,\n",
       " 'kids': 247,\n",
       " 'comic': 248,\n",
       " 'takes': 249,\n",
       " 'anything': 250,\n",
       " 'together': 251,\n",
       " 'low': 252,\n",
       " 'smart': 253,\n",
       " 'thing': 254,\n",
       " 'where': 255,\n",
       " 'enjoyable': 256,\n",
       " 'same': 257,\n",
       " 'though': 258,\n",
       " 'art': 259,\n",
       " 'entertainment': 260,\n",
       " 'laughs': 261,\n",
       " 'direction': 262,\n",
       " 'clever': 263,\n",
       " 'bit': 264,\n",
       " 'experience': 265,\n",
       " 'pretty': 266,\n",
       " 'subject': 267,\n",
       " 'sometimes': 268,\n",
       " 'him': 269,\n",
       " 'least': 270,\n",
       " 'dark': 271,\n",
       " 'point': 272,\n",
       " 'cinematic': 273,\n",
       " 'away': 274,\n",
       " 'amusing': 275,\n",
       " 'why': 276,\n",
       " 'again': 277,\n",
       " 'worst': 278,\n",
       " 'history': 279,\n",
       " 'powerful': 280,\n",
       " 'part': 281,\n",
       " 'engaging': 282,\n",
       " 'gets': 283,\n",
       " 'women': 284,\n",
       " 'she': 285,\n",
       " 'war': 286,\n",
       " 'perfect': 287,\n",
       " 'actually': 288,\n",
       " 'gives': 289,\n",
       " 'three': 290,\n",
       " 'show': 291,\n",
       " 'beautiful': 292,\n",
       " 'did': 293,\n",
       " 'around': 294,\n",
       " 'idea': 295,\n",
       " 'video': 296,\n",
       " 'feature': 297,\n",
       " 'looking': 298,\n",
       " 'once': 299,\n",
       " 'want': 300,\n",
       " 'last': 301,\n",
       " 'true': 302,\n",
       " 'silly': 303,\n",
       " 'energy': 304,\n",
       " 'place': 305,\n",
       " 'strong': 306,\n",
       " 'solid': 307,\n",
       " 'nearly': 308,\n",
       " 'summer': 309,\n",
       " 'charming': 310,\n",
       " 'hour': 311,\n",
       " 'power': 312,\n",
       " 'anyone': 313,\n",
       " 'genre': 314,\n",
       " 'surprisingly': 315,\n",
       " 'done': 316,\n",
       " 'intelligence': 317,\n",
       " 'simply': 318,\n",
       " 'premise': 319,\n",
       " 'familiar': 320,\n",
       " 'under': 321,\n",
       " 'short': 322,\n",
       " 'face': 323,\n",
       " 'fans': 324,\n",
       " 'screenplay': 325,\n",
       " 'fresh': 326,\n",
       " 'predictable': 327,\n",
       " 'intelligent': 328,\n",
       " 'manages': 329,\n",
       " 'dramatic': 330,\n",
       " 'flick': 331,\n",
       " 'writer': 332,\n",
       " 'then': 333,\n",
       " 'light': 334,\n",
       " 'always': 335,\n",
       " 'wit': 336,\n",
       " 'charm': 337,\n",
       " 'feeling': 338,\n",
       " 'narrative': 339,\n",
       " 'need': 340,\n",
       " 'filmmaking': 341,\n",
       " 'think': 342,\n",
       " 'effects': 343,\n",
       " 'portrait': 344,\n",
       " 'mind': 345,\n",
       " 'interest': 346,\n",
       " 'theater': 347,\n",
       " 'whole': 348,\n",
       " 'especially': 349,\n",
       " 'minute': 350,\n",
       " 'fine': 351,\n",
       " 'spirit': 352,\n",
       " 'goes': 353,\n",
       " 'truly': 354,\n",
       " 'enjoy': 355,\n",
       " 'whose': 356,\n",
       " 'day': 357,\n",
       " 'know': 358,\n",
       " 'set': 359,\n",
       " 'offers': 360,\n",
       " 'probably': 361,\n",
       " 'small': 362,\n",
       " 'easy': 363,\n",
       " 'trying': 364,\n",
       " 'flat': 365,\n",
       " 'suspense': 366,\n",
       " 'rich': 367,\n",
       " 'hours': 368,\n",
       " 'say': 369,\n",
       " 'laugh': 370,\n",
       " 'effort': 371,\n",
       " 'classic': 372,\n",
       " 'horror': 373,\n",
       " 'deeply': 374,\n",
       " 'written': 375,\n",
       " 'beautifully': 376,\n",
       " 'coming': 377,\n",
       " 'hilarious': 378,\n",
       " 'opera': 379,\n",
       " 'quirky': 380,\n",
       " 'children': 381,\n",
       " 'becomes': 382,\n",
       " 'since': 383,\n",
       " 'matter': 384,\n",
       " 'romance': 385,\n",
       " 'satisfying': 386,\n",
       " 'age': 387,\n",
       " 'rare': 388,\n",
       " 'level': 389,\n",
       " 'modern': 390,\n",
       " 'tv': 391,\n",
       " 'ideas': 392,\n",
       " 'culture': 393,\n",
       " 'tone': 394,\n",
       " 'head': 395,\n",
       " 'thought': 396,\n",
       " 'series': 397,\n",
       " 'study': 398,\n",
       " 'dumb': 399,\n",
       " 'everything': 400,\n",
       " 'lack': 401,\n",
       " 'instead': 402,\n",
       " 'boring': 403,\n",
       " 'middle': 404,\n",
       " 'pleasure': 405,\n",
       " 'obvious': 406,\n",
       " 'leave': 407,\n",
       " 'exercise': 408,\n",
       " 'filmmakers': 409,\n",
       " 'stuff': 410,\n",
       " 'honest': 411,\n",
       " 'title': 412,\n",
       " 'everyone': 413,\n",
       " 'run': 414,\n",
       " 'serious': 415,\n",
       " 'intriguing': 416,\n",
       " \"'d\": 417,\n",
       " 'talent': 418,\n",
       " 'touching': 419,\n",
       " 'turn': 420,\n",
       " 'actor': 421,\n",
       " 'memorable': 422,\n",
       " 'become': 423,\n",
       " 'slow': 424,\n",
       " 'filmmaker': 425,\n",
       " 'wo': 426,\n",
       " 'remarkable': 427,\n",
       " 'himself': 428,\n",
       " 'impossible': 429,\n",
       " 'melodrama': 430,\n",
       " 'already': 431,\n",
       " 'past': 432,\n",
       " 'cold': 433,\n",
       " 'audiences': 434,\n",
       " 'imagination': 435,\n",
       " 'stories': 436,\n",
       " 'woman': 437,\n",
       " 'despite': 438,\n",
       " 'jokes': 439,\n",
       " 'fails': 440,\n",
       " 'top': 441,\n",
       " 'visually': 442,\n",
       " 'bland': 443,\n",
       " 'thin': 444,\n",
       " 'sad': 445,\n",
       " 'wonderful': 446,\n",
       " 'black': 447,\n",
       " 'gags': 448,\n",
       " 'project': 449,\n",
       " 'adventure': 450,\n",
       " 'french': 451,\n",
       " 'beyond': 452,\n",
       " 'camera': 453,\n",
       " 'storytelling': 454,\n",
       " 'contrived': 455,\n",
       " 'ending': 456,\n",
       " 'likely': 457,\n",
       " 'above': 458,\n",
       " 'line': 459,\n",
       " 'brilliant': 460,\n",
       " 'terrific': 461,\n",
       " 'completely': 462,\n",
       " 'simple': 463,\n",
       " 'put': 464,\n",
       " 'each': 465,\n",
       " 'beauty': 466,\n",
       " 'next': 467,\n",
       " 'recent': 468,\n",
       " 'girl': 469,\n",
       " 'must': 470,\n",
       " 'ways': 471,\n",
       " 'gorgeous': 472,\n",
       " 'crime': 473,\n",
       " 'tired': 474,\n",
       " 'message': 475,\n",
       " 'left': 476,\n",
       " 'looks': 477,\n",
       " 'reason': 478,\n",
       " 'lacks': 479,\n",
       " 'stand': 480,\n",
       " 'men': 481,\n",
       " 'sure': 482,\n",
       " 'directed': 483,\n",
       " 'concept': 484,\n",
       " 'emotionally': 485,\n",
       " 'social': 486,\n",
       " 'gentle': 487,\n",
       " 'shot': 488,\n",
       " 'mess': 489,\n",
       " 'images': 490,\n",
       " 'proves': 491,\n",
       " 'ride': 492,\n",
       " 'oscar': 493,\n",
       " 'debut': 494,\n",
       " 'passion': 495,\n",
       " 'certainly': 496,\n",
       " 'death': 497,\n",
       " 'perfectly': 498,\n",
       " 'sequel': 499,\n",
       " 'either': 500,\n",
       " 'soap': 501,\n",
       " 'cliches': 502,\n",
       " 'easily': 503,\n",
       " 'lives': 504,\n",
       " 'otherwise': 505,\n",
       " 'important': 506,\n",
       " 'sort': 507,\n",
       " 'turns': 508,\n",
       " 'loud': 509,\n",
       " 'else': 510,\n",
       " 'book': 511,\n",
       " 'act': 512,\n",
       " 'personal': 513,\n",
       " 'plays': 514,\n",
       " 'wrong': 515,\n",
       " 'deep': 516,\n",
       " 'particularly': 517,\n",
       " 'thoughtful': 518,\n",
       " 'believe': 519,\n",
       " 'cheap': 520,\n",
       " 'talented': 521,\n",
       " 'sex': 522,\n",
       " 'animation': 523,\n",
       " 'home': 524,\n",
       " 'having': 525,\n",
       " 'ambitious': 526,\n",
       " 'live': 527,\n",
       " 'complex': 528,\n",
       " 'inside': 529,\n",
       " 'barely': 530,\n",
       " 'play': 531,\n",
       " 'now': 532,\n",
       " 'class': 533,\n",
       " 'stupid': 534,\n",
       " 'mr': 535,\n",
       " 'viewer': 536,\n",
       " 'fairly': 537,\n",
       " 'cool': 538,\n",
       " 'sequences': 539,\n",
       " 'entirely': 540,\n",
       " 'dead': 541,\n",
       " 'excellent': 542,\n",
       " 'writing': 543,\n",
       " 'fashioned': 544,\n",
       " 'viewers': 545,\n",
       " 'role': 546,\n",
       " 'school': 547,\n",
       " 'surprising': 548,\n",
       " 'genuine': 549,\n",
       " 'shows': 550,\n",
       " 'convincing': 551,\n",
       " 'worthy': 552,\n",
       " 'remains': 553,\n",
       " 'de': 554,\n",
       " 'attention': 555,\n",
       " 'none': 556,\n",
       " 'violence': 557,\n",
       " 'quality': 558,\n",
       " 'rock': 559,\n",
       " 'seeing': 560,\n",
       " 'able': 561,\n",
       " 'tragedy': 562,\n",
       " 'ugly': 563,\n",
       " 'attempt': 564,\n",
       " 'themselves': 565,\n",
       " 'version': 566,\n",
       " 'difficult': 567,\n",
       " 'creative': 568,\n",
       " 'appealing': 569,\n",
       " 'different': 570,\n",
       " 'comedies': 571,\n",
       " 'along': 572,\n",
       " 'political': 573,\n",
       " 'pretentious': 574,\n",
       " \"'m\": 575,\n",
       " 'budget': 576,\n",
       " 'creepy': 577,\n",
       " 'fantasy': 578,\n",
       " 'eyes': 579,\n",
       " 'running': 580,\n",
       " 'got': 581,\n",
       " 'mean': 582,\n",
       " 'straight': 583,\n",
       " 'dry': 584,\n",
       " 'decent': 585,\n",
       " 'b': 586,\n",
       " 'artist': 587,\n",
       " 'elements': 588,\n",
       " 'formula': 589,\n",
       " 'eye': 590,\n",
       " 'historical': 591,\n",
       " 'success': 592,\n",
       " 'moral': 593,\n",
       " 'warm': 594,\n",
       " 'winning': 595,\n",
       " 'fact': 596,\n",
       " 'worse': 597,\n",
       " 'change': 598,\n",
       " 'lost': 599,\n",
       " 'delightful': 600,\n",
       " 'welcome': 601,\n",
       " 'john': 602,\n",
       " 'acted': 603,\n",
       " 'warmth': 604,\n",
       " 'pop': 605,\n",
       " 'found': 606,\n",
       " 'reality': 607,\n",
       " 'crafted': 608,\n",
       " 'sit': 609,\n",
       " 'nice': 610,\n",
       " 'job': 611,\n",
       " 'ends': 612,\n",
       " 'inventive': 613,\n",
       " 'epic': 614,\n",
       " 'game': 615,\n",
       " 'hero': 616,\n",
       " 'heavy': 617,\n",
       " 'nature': 618,\n",
       " 'engrossing': 619,\n",
       " 'side': 620,\n",
       " 'against': 621,\n",
       " 'second': 622,\n",
       " 'mystery': 623,\n",
       " 'career': 624,\n",
       " 'working': 625,\n",
       " 'adults': 626,\n",
       " 'during': 627,\n",
       " 'moment': 628,\n",
       " 'pictures': 629,\n",
       " 'stylish': 630,\n",
       " 'impressive': 631,\n",
       " 'thoroughly': 632,\n",
       " 'tries': 633,\n",
       " 'teen': 634,\n",
       " 'highly': 635,\n",
       " 'neither': 636,\n",
       " 'mostly': 637,\n",
       " 'boy': 638,\n",
       " 'emotions': 639,\n",
       " 'road': 640,\n",
       " 'scene': 641,\n",
       " 'four': 642,\n",
       " 'satire': 643,\n",
       " 'unsettling': 644,\n",
       " 'nor': 645,\n",
       " 'insight': 646,\n",
       " 'unique': 647,\n",
       " 'edge': 648,\n",
       " 'scary': 649,\n",
       " 'period': 650,\n",
       " 'painful': 651,\n",
       " 'awful': 652,\n",
       " 'considerable': 653,\n",
       " 'journey': 654,\n",
       " 'help': 655,\n",
       " '90': 656,\n",
       " 'appeal': 657,\n",
       " 'pace': 658,\n",
       " 'earnest': 659,\n",
       " 'try': 660,\n",
       " 'getting': 661,\n",
       " 'view': 662,\n",
       " 'told': 663,\n",
       " 'unfunny': 664,\n",
       " 'occasionally': 665,\n",
       " 'mood': 666,\n",
       " 'usual': 667,\n",
       " 'lead': 668,\n",
       " 'seat': 669,\n",
       " 'michael': 670,\n",
       " 'leaves': 671,\n",
       " 'falls': 672,\n",
       " 'psychological': 673,\n",
       " 'examination': 674,\n",
       " 'tell': 675,\n",
       " 'sentimental': 676,\n",
       " 'hit': 677,\n",
       " 'poorly': 678,\n",
       " 'production': 679,\n",
       " 'future': 680,\n",
       " 'successful': 681,\n",
       " 'somewhat': 682,\n",
       " 'cute': 683,\n",
       " 'days': 684,\n",
       " 'vision': 685,\n",
       " 'approach': 686,\n",
       " 'cut': 687,\n",
       " 'fire': 688,\n",
       " 'knows': 689,\n",
       " 'plenty': 690,\n",
       " 'problem': 691,\n",
       " 'disney': 692,\n",
       " 'given': 693,\n",
       " 'depth': 694,\n",
       " 'create': 695,\n",
       " 'strange': 696,\n",
       " 'rate': 697,\n",
       " 'lacking': 698,\n",
       " 'call': 699,\n",
       " 'mediocre': 700,\n",
       " 'greatest': 701,\n",
       " 'witty': 702,\n",
       " 'possible': 703,\n",
       " 'believable': 704,\n",
       " 'spy': 705,\n",
       " 'colorful': 706,\n",
       " 'waste': 707,\n",
       " 'thinking': 708,\n",
       " 'delivers': 709,\n",
       " 'monster': 710,\n",
       " 'finally': 711,\n",
       " 'touch': 712,\n",
       " 'master': 713,\n",
       " 'bring': 714,\n",
       " 'tedious': 715,\n",
       " 'keeps': 716,\n",
       " 'sci': 717,\n",
       " 'fi': 718,\n",
       " 'taste': 719,\n",
       " 'imagine': 720,\n",
       " 'night': 721,\n",
       " 'odd': 722,\n",
       " 'grace': 723,\n",
       " 'kid': 724,\n",
       " '10': 725,\n",
       " 'flawed': 726,\n",
       " 'close': 727,\n",
       " 'car': 728,\n",
       " 'situations': 729,\n",
       " 'clear': 730,\n",
       " 'inspired': 731,\n",
       " 'case': 732,\n",
       " 'fully': 733,\n",
       " 'themes': 734,\n",
       " 'gross': 735,\n",
       " 'flicks': 736,\n",
       " 'doing': 737,\n",
       " 'whether': 738,\n",
       " 'felt': 739,\n",
       " 'major': 740,\n",
       " 'shallow': 741,\n",
       " 'gone': 742,\n",
       " 'needs': 743,\n",
       " 'wild': 744,\n",
       " 'tension': 745,\n",
       " 'hold': 746,\n",
       " 'single': 747,\n",
       " 'utterly': 748,\n",
       " 'magic': 749,\n",
       " 'sustain': 750,\n",
       " 'watchable': 751,\n",
       " 'hand': 752,\n",
       " 'pure': 753,\n",
       " 'soul': 754,\n",
       " 'female': 755,\n",
       " 'uses': 756,\n",
       " 'house': 757,\n",
       " 'relationships': 758,\n",
       " 'parents': 759,\n",
       " 'let': 760,\n",
       " 'core': 761,\n",
       " 'goofy': 762,\n",
       " 'endearing': 763,\n",
       " 'use': 764,\n",
       " 'cultural': 765,\n",
       " 'plain': 766,\n",
       " 'provocative': 767,\n",
       " 'masterpiece': 768,\n",
       " 'adaptation': 769,\n",
       " 'final': 770,\n",
       " 'animated': 771,\n",
       " 'lovely': 772,\n",
       " 'throughout': 773,\n",
       " 'surprises': 774,\n",
       " 'execution': 775,\n",
       " 'dog': 776,\n",
       " 'several': 777,\n",
       " 'money': 778,\n",
       " 'deserves': 779,\n",
       " 'hip': 780,\n",
       " 'flaws': 781,\n",
       " 'crowd': 782,\n",
       " 'large': 783,\n",
       " 'date': 784,\n",
       " 'spielberg': 785,\n",
       " 'taking': 786,\n",
       " 'sharp': 787,\n",
       " 'happy': 788,\n",
       " 'inspiring': 789,\n",
       " 'subtle': 790,\n",
       " 'trip': 791,\n",
       " 'sensitive': 792,\n",
       " 'hackneyed': 793,\n",
       " 'cinematography': 794,\n",
       " 'actress': 795,\n",
       " 'room': 796,\n",
       " 'city': 797,\n",
       " 'poor': 798,\n",
       " 'ii': 799,\n",
       " 'supposed': 800,\n",
       " 'pacing': 801,\n",
       " 'drag': 802,\n",
       " 'ill': 803,\n",
       " 'delight': 804,\n",
       " 'purpose': 805,\n",
       " 'surprise': 806,\n",
       " 'unexpected': 807,\n",
       " 'york': 808,\n",
       " 'understand': 809,\n",
       " 'guys': 810,\n",
       " 'captures': 811,\n",
       " 'starts': 812,\n",
       " 'fast': 813,\n",
       " 'novel': 814,\n",
       " 'playful': 815,\n",
       " 'called': 816,\n",
       " 'intense': 817,\n",
       " 'sincere': 818,\n",
       " 'pointless': 819,\n",
       " 'sophisticated': 820,\n",
       " 'among': 821,\n",
       " 'meditation': 822,\n",
       " 'intimate': 823,\n",
       " 'definitely': 824,\n",
       " 'air': 825,\n",
       " 'grand': 826,\n",
       " 'playing': 827,\n",
       " 'depressing': 828,\n",
       " 'episode': 829,\n",
       " 'mindless': 830,\n",
       " 'brain': 831,\n",
       " 'effective': 832,\n",
       " 'impact': 833,\n",
       " 'ability': 834,\n",
       " 'exciting': 835,\n",
       " 'recommend': 836,\n",
       " 'couple': 837,\n",
       " 'heartfelt': 838,\n",
       " 'manner': 839,\n",
       " 'twists': 840,\n",
       " 'truth': 841,\n",
       " 'tragic': 842,\n",
       " 'taken': 843,\n",
       " 'certain': 844,\n",
       " 'form': 845,\n",
       " 'water': 846,\n",
       " 'ensemble': 847,\n",
       " 'today': 848,\n",
       " '2': 849,\n",
       " 'step': 850,\n",
       " 'badly': 851,\n",
       " 'pleasant': 852,\n",
       " 'skill': 853,\n",
       " 'merely': 854,\n",
       " 'across': 855,\n",
       " 'pieces': 856,\n",
       " 'huge': 857,\n",
       " 'white': 858,\n",
       " 'telling': 859,\n",
       " 'promise': 860,\n",
       " 'quiet': 861,\n",
       " 'expect': 862,\n",
       " 'ones': 863,\n",
       " 'sexy': 864,\n",
       " 'situation': 865,\n",
       " 'guy': 866,\n",
       " 'words': 867,\n",
       " 'behind': 868,\n",
       " 'chemistry': 869,\n",
       " 'equally': 870,\n",
       " 'problems': 871,\n",
       " 'complete': 872,\n",
       " 'share': 873,\n",
       " 'memory': 874,\n",
       " 'humanity': 875,\n",
       " 'brings': 876,\n",
       " 'overall': 877,\n",
       " 'hearted': 878,\n",
       " 'overcome': 879,\n",
       " 'terrible': 880,\n",
       " 'score': 881,\n",
       " 'forgettable': 882,\n",
       " 'worthwhile': 883,\n",
       " 'failure': 884,\n",
       " 'list': 885,\n",
       " 'funnier': 886,\n",
       " 'motion': 887,\n",
       " 'twisted': 888,\n",
       " 'amount': 889,\n",
       " 'events': 890,\n",
       " 'name': 891,\n",
       " 'hell': 892,\n",
       " 'skin': 893,\n",
       " 'empty': 894,\n",
       " 'weird': 895,\n",
       " 'alone': 896,\n",
       " 'sloppy': 897,\n",
       " 'funniest': 898,\n",
       " 'exactly': 899,\n",
       " 'issues': 900,\n",
       " 'free': 901,\n",
       " 'intrigue': 902,\n",
       " 'generic': 903,\n",
       " 'viewing': 904,\n",
       " 'allows': 905,\n",
       " 'business': 906,\n",
       " 'value': 907,\n",
       " 'contemporary': 908,\n",
       " 'ultimate': 909,\n",
       " 'urban': 910,\n",
       " 'slightly': 911,\n",
       " 'wildly': 912,\n",
       " 'indie': 913,\n",
       " 'party': 914,\n",
       " 'start': 915,\n",
       " 'latest': 916,\n",
       " 'sets': 917,\n",
       " 'used': 918,\n",
       " 'living': 919,\n",
       " 'guilty': 920,\n",
       " 'remake': 921,\n",
       " 'substance': 922,\n",
       " 'justice': 923,\n",
       " 'wish': 924,\n",
       " 'someone': 925,\n",
       " 'meaning': 926,\n",
       " 'rest': 927,\n",
       " 'affection': 928,\n",
       " 'stars': 929,\n",
       " 'force': 930,\n",
       " 'saw': 931,\n",
       " 'strangely': 932,\n",
       " 'hot': 933,\n",
       " 'striking': 934,\n",
       " 'remarkably': 935,\n",
       " 'wise': 936,\n",
       " 'delivery': 937,\n",
       " 'attempts': 938,\n",
       " 'co': 939,\n",
       " 'riveting': 940,\n",
       " 'natural': 941,\n",
       " 'america': 942,\n",
       " 'stale': 943,\n",
       " 'rarely': 944,\n",
       " 'spirited': 945,\n",
       " 'forced': 946,\n",
       " 'filled': 947,\n",
       " 'voice': 948,\n",
       " 'extraordinary': 949,\n",
       " 'tribute': 950,\n",
       " 'chilling': 951,\n",
       " 'manipulative': 952,\n",
       " 'poetry': 953,\n",
       " 'evil': 954,\n",
       " 'spiritual': 955,\n",
       " 'slapstick': 956,\n",
       " 'frame': 957,\n",
       " 'key': 958,\n",
       " 'hardly': 959,\n",
       " 'routine': 960,\n",
       " 'genuinely': 961,\n",
       " 'casting': 962,\n",
       " 'college': 963,\n",
       " 'painfully': 964,\n",
       " 'annoying': 965,\n",
       " 'realistic': 966,\n",
       " 'respect': 967,\n",
       " 'smile': 968,\n",
       " 'storyline': 969,\n",
       " 'trouble': 970,\n",
       " 'thanks': 971,\n",
       " 'fit': 972,\n",
       " 'fiction': 973,\n",
       " 'length': 974,\n",
       " 'universal': 975,\n",
       " 'uneven': 976,\n",
       " 'clarity': 977,\n",
       " 'nicely': 978,\n",
       " 'offensive': 979,\n",
       " 'extremely': 980,\n",
       " 'ago': 981,\n",
       " 'forget': 982,\n",
       " 'ages': 983,\n",
       " 'excitement': 984,\n",
       " 'lame': 985,\n",
       " 'friendship': 986,\n",
       " 'festival': 987,\n",
       " 'energetic': 988,\n",
       " 'apart': 989,\n",
       " 'shots': 990,\n",
       " 'questions': 991,\n",
       " 'popcorn': 992,\n",
       " 'directors': 993,\n",
       " 'target': 994,\n",
       " 'suffers': 995,\n",
       " 'stunning': 996,\n",
       " 'clearly': 997,\n",
       " 'average': 998,\n",
       " 'potential': 999,\n",
       " 'vivid': 1000,\n",
       " ...}"
      ]
     },
     "execution_count": 101,
     "metadata": {},
     "output_type": "execute_result"
    }
   ],
   "source": [
    "tokenizer.word_index"
   ]
  },
  {
   "cell_type": "code",
   "execution_count": 150,
   "metadata": {},
   "outputs": [],
   "source": [
    "x_train_tokens = tokenizer.texts_to_sequences(x_train)"
   ]
  },
  {
   "cell_type": "code",
   "execution_count": 103,
   "metadata": {},
   "outputs": [
    {
     "data": {
      "text/plain": [
       "\"'s little to recommend Snow Dogs , unless one considers cliched dialogue and perverse escapism a source of high hilarity\""
      ]
     },
     "execution_count": 103,
     "metadata": {},
     "output_type": "execute_result"
    }
   ],
   "source": [
    "x_train[100]"
   ]
  },
  {
   "cell_type": "code",
   "execution_count": 104,
   "metadata": {},
   "outputs": [
    {
     "name": "stdout",
     "output_type": "stream",
     "text": [
      "[6, 70, 5, 836, 1366, 2223, 3438, 26, 5272, 1192, 170, 3, 2109, 2110, 2, 1495, 4, 230, 2960]\n"
     ]
    }
   ],
   "source": [
    "print(x_train_tokens[100])"
   ]
  },
  {
   "cell_type": "code",
   "execution_count": 151,
   "metadata": {},
   "outputs": [],
   "source": [
    "x_test_tokens = tokenizer.texts_to_sequences(x_test)"
   ]
  },
  {
   "cell_type": "code",
   "execution_count": 152,
   "metadata": {},
   "outputs": [],
   "source": [
    "num_tokens = [len(tokens) for tokens in x_train_tokens + x_test_tokens]\n",
    "num_tokens = np.array(num_tokens)"
   ]
  },
  {
   "cell_type": "code",
   "execution_count": 153,
   "metadata": {},
   "outputs": [
    {
     "data": {
      "text/plain": [
       "8.606775804806611"
      ]
     },
     "execution_count": 153,
     "metadata": {},
     "output_type": "execute_result"
    }
   ],
   "source": [
    "np.mean(num_tokens)"
   ]
  },
  {
   "cell_type": "code",
   "execution_count": 154,
   "metadata": {},
   "outputs": [
    {
     "data": {
      "text/plain": [
       "49"
      ]
     },
     "execution_count": 154,
     "metadata": {},
     "output_type": "execute_result"
    }
   ],
   "source": [
    "np.max(num_tokens)"
   ]
  },
  {
   "cell_type": "code",
   "execution_count": 155,
   "metadata": {},
   "outputs": [
    {
     "data": {
      "text/plain": [
       "28184"
      ]
     },
     "execution_count": 155,
     "metadata": {},
     "output_type": "execute_result"
    }
   ],
   "source": [
    "np.argmax(num_tokens)"
   ]
  },
  {
   "cell_type": "code",
   "execution_count": 156,
   "metadata": {},
   "outputs": [
    {
     "data": {
      "text/plain": [
       "\"It 's a bad sign when you 're rooting for the film to hurry up and get to its subjects ' deaths just so the documentary will be over , but it 's indicative of how uncompelling the movie is unless it happens to cover your particular area of interest .\""
      ]
     },
     "execution_count": 156,
     "metadata": {},
     "output_type": "execute_result"
    }
   ],
   "source": [
    "x_train[28184]"
   ]
  },
  {
   "cell_type": "code",
   "execution_count": 157,
   "metadata": {},
   "outputs": [
    {
     "data": {
      "text/plain": [
       "23"
      ]
     },
     "execution_count": 157,
     "metadata": {},
     "output_type": "execute_result"
    }
   ],
   "source": [
    "max_tokens = np.mean(num_tokens) + 2 * np.std(num_tokens)\n",
    "max_tokens = int(max_tokens)\n",
    "max_tokens"
   ]
  },
  {
   "cell_type": "code",
   "execution_count": 158,
   "metadata": {},
   "outputs": [
    {
     "data": {
      "text/plain": [
       "0.9415387431679699"
      ]
     },
     "execution_count": 158,
     "metadata": {},
     "output_type": "execute_result"
    }
   ],
   "source": [
    "np.sum(num_tokens < max_tokens) / len(num_tokens)"
   ]
  },
  {
   "cell_type": "code",
   "execution_count": 159,
   "metadata": {},
   "outputs": [],
   "source": [
    "x_train_pad = pad_sequences(x_train_tokens, maxlen=max_tokens)"
   ]
  },
  {
   "cell_type": "code",
   "execution_count": 160,
   "metadata": {},
   "outputs": [],
   "source": [
    "x_test_pad = pad_sequences(x_test_tokens, maxlen=max_tokens)"
   ]
  },
  {
   "cell_type": "code",
   "execution_count": 161,
   "metadata": {},
   "outputs": [
    {
     "data": {
      "text/plain": [
       "(61182, 23)"
      ]
     },
     "execution_count": 161,
     "metadata": {},
     "output_type": "execute_result"
    }
   ],
   "source": [
    "x_train_pad.shape"
   ]
  },
  {
   "cell_type": "code",
   "execution_count": 162,
   "metadata": {},
   "outputs": [
    {
     "data": {
      "text/plain": [
       "(15296, 23)"
      ]
     },
     "execution_count": 162,
     "metadata": {},
     "output_type": "execute_result"
    }
   ],
   "source": [
    "x_test_pad.shape"
   ]
  },
  {
   "cell_type": "code",
   "execution_count": 163,
   "metadata": {},
   "outputs": [
    {
     "data": {
      "text/plain": [
       "array([   6,   70,    5,  836, 1366, 2223, 3438,   26, 5272, 1192,  170,\n",
       "          3, 2109, 2110,    2, 1495,    4,  230, 2960])"
      ]
     },
     "execution_count": 163,
     "metadata": {},
     "output_type": "execute_result"
    }
   ],
   "source": [
    "np.array(x_train_tokens[100])"
   ]
  },
  {
   "cell_type": "code",
   "execution_count": 164,
   "metadata": {},
   "outputs": [
    {
     "data": {
      "text/plain": [
       "array([   0,    0,    0,    0,    6,   70,    5,  836, 1366, 2223, 3438,\n",
       "         26, 5272, 1192,  170,    3, 2109, 2110,    2, 1495,    4,  230,\n",
       "       2960])"
      ]
     },
     "execution_count": 164,
     "metadata": {},
     "output_type": "execute_result"
    }
   ],
   "source": [
    "x_train_pad[100]"
   ]
  },
  {
   "cell_type": "code",
   "execution_count": 165,
   "metadata": {},
   "outputs": [],
   "source": [
    "idx = tokenizer.word_index\n",
    "inverse_map = dict(zip(idx.values(), idx.keys()))"
   ]
  },
  {
   "cell_type": "code",
   "execution_count": 166,
   "metadata": {},
   "outputs": [],
   "source": [
    "def tokens_to_string(tokens):\n",
    "    words = [inverse_map[token] for token in tokens if token!=0]\n",
    "    text = ' '.join(words)\n",
    "    return text"
   ]
  },
  {
   "cell_type": "code",
   "execution_count": 167,
   "metadata": {},
   "outputs": [
    {
     "data": {
      "text/plain": [
       "\"'s little to recommend Snow Dogs , unless one considers cliched dialogue and perverse escapism a source of high hilarity\""
      ]
     },
     "execution_count": 167,
     "metadata": {},
     "output_type": "execute_result"
    }
   ],
   "source": [
    "x_train[100]"
   ]
  },
  {
   "cell_type": "code",
   "execution_count": 168,
   "metadata": {},
   "outputs": [
    {
     "data": {
      "text/plain": [
       "array([   0,    0,    0,    0,    6,   70,    5,  836, 1366, 2223, 3438,\n",
       "         26, 5272, 1192,  170,    3, 2109, 2110,    2, 1495,    4,  230,\n",
       "       2960])"
      ]
     },
     "execution_count": 168,
     "metadata": {},
     "output_type": "execute_result"
    }
   ],
   "source": [
    "x_train_pad[100]"
   ]
  },
  {
   "cell_type": "code",
   "execution_count": 169,
   "metadata": {},
   "outputs": [
    {
     "data": {
      "text/plain": [
       "\"'s little to recommend snow dogs unless one considers cliched dialogue and perverse escapism a source of high hilarity\""
      ]
     },
     "execution_count": 169,
     "metadata": {},
     "output_type": "execute_result"
    }
   ],
   "source": [
    "tokens_to_string(x_train_tokens[100])"
   ]
  },
  {
   "cell_type": "code",
   "execution_count": 170,
   "metadata": {},
   "outputs": [],
   "source": [
    "model = Sequential()"
   ]
  },
  {
   "cell_type": "code",
   "execution_count": 171,
   "metadata": {},
   "outputs": [],
   "source": [
    "embedding_size = 50"
   ]
  },
  {
   "cell_type": "code",
   "execution_count": 172,
   "metadata": {},
   "outputs": [],
   "source": [
    "model.add(Embedding(input_dim=num_words,\n",
    "                    output_dim=embedding_size,\n",
    "                    input_length=max_tokens,\n",
    "                    name='embedding_layer'))"
   ]
  },
  {
   "cell_type": "code",
   "execution_count": 173,
   "metadata": {},
   "outputs": [],
   "source": [
    "model.add(CuDNNGRU(units=16, return_sequences=True))\n",
    "model.add(CuDNNGRU(units=8, return_sequences=True))\n",
    "model.add(CuDNNGRU(units=4))\n",
    "model.add(Dense(1, activation='sigmoid'))"
   ]
  },
  {
   "cell_type": "code",
   "execution_count": 174,
   "metadata": {},
   "outputs": [],
   "source": [
    "optimizer = Adam(lr=1e-3)"
   ]
  },
  {
   "cell_type": "code",
   "execution_count": 175,
   "metadata": {},
   "outputs": [],
   "source": [
    "model.compile(loss='binary_crossentropy',\n",
    "              optimizer=optimizer,\n",
    "              metrics=['accuracy'])"
   ]
  },
  {
   "cell_type": "code",
   "execution_count": 176,
   "metadata": {},
   "outputs": [
    {
     "name": "stdout",
     "output_type": "stream",
     "text": [
      "Model: \"sequential_3\"\n",
      "_________________________________________________________________\n",
      "Layer (type)                 Output Shape              Param #   \n",
      "=================================================================\n",
      "embedding_layer (Embedding)  (None, 23, 50)            500000    \n",
      "_________________________________________________________________\n",
      "cu_dnngru_9 (CuDNNGRU)       (None, 23, 16)            3264      \n",
      "_________________________________________________________________\n",
      "cu_dnngru_10 (CuDNNGRU)      (None, 23, 8)             624       \n",
      "_________________________________________________________________\n",
      "cu_dnngru_11 (CuDNNGRU)      (None, 4)                 168       \n",
      "_________________________________________________________________\n",
      "dense_3 (Dense)              (None, 1)                 5         \n",
      "=================================================================\n",
      "Total params: 504,061\n",
      "Trainable params: 504,061\n",
      "Non-trainable params: 0\n",
      "_________________________________________________________________\n"
     ]
    }
   ],
   "source": [
    "model.summary()"
   ]
  },
  {
   "cell_type": "code",
   "execution_count": 177,
   "metadata": {},
   "outputs": [
    {
     "name": "stdout",
     "output_type": "stream",
     "text": [
      "Epoch 1/5\n",
      "61182/61182 [==============================] - 13s 218us/sample - loss: 0.3921 - acc: 0.8185\n",
      "Epoch 2/5\n",
      "61182/61182 [==============================] - 12s 200us/sample - loss: 0.2307 - acc: 0.9112\n",
      "Epoch 3/5\n",
      "61182/61182 [==============================] - 13s 205us/sample - loss: 0.1815 - acc: 0.9325\n",
      "Epoch 4/5\n",
      "61182/61182 [==============================] - 12s 204us/sample - loss: 0.1522 - acc: 0.9437\n",
      "Epoch 5/5\n",
      "61182/61182 [==============================] - 12s 201us/sample - loss: 0.1352 - acc: 0.9491\n"
     ]
    },
    {
     "data": {
      "text/plain": [
       "<tensorflow.python.keras.callbacks.History at 0x2a0c367d470>"
      ]
     },
     "execution_count": 177,
     "metadata": {},
     "output_type": "execute_result"
    }
   ],
   "source": [
    "model.fit(x_train_pad, y_train, epochs=5, batch_size=100)"
   ]
  },
  {
   "cell_type": "code",
   "execution_count": 178,
   "metadata": {},
   "outputs": [
    {
     "name": "stdout",
     "output_type": "stream",
     "text": [
      "15296/15296 [==============================] - 4s 255us/sample - loss: 0.5154 - acc: 0.8109\n"
     ]
    }
   ],
   "source": [
    "result = model.evaluate(x_test_pad, y_test)"
   ]
  },
  {
   "cell_type": "code",
   "execution_count": 179,
   "metadata": {},
   "outputs": [
    {
     "data": {
      "text/plain": [
       "0.8108656"
      ]
     },
     "execution_count": 179,
     "metadata": {},
     "output_type": "execute_result"
    }
   ],
   "source": [
    "result[1]"
   ]
  },
  {
   "cell_type": "code",
   "execution_count": 180,
   "metadata": {},
   "outputs": [
    {
     "data": {
      "text/plain": [
       "0.5154463212925426"
      ]
     },
     "execution_count": 180,
     "metadata": {},
     "output_type": "execute_result"
    }
   ],
   "source": [
    "result[0]"
   ]
  },
  {
   "cell_type": "code",
   "execution_count": 181,
   "metadata": {},
   "outputs": [],
   "source": [
    "y_pred = model.predict(x=x_test_pad[0:1000])"
   ]
  },
  {
   "cell_type": "code",
   "execution_count": 183,
   "metadata": {},
   "outputs": [
    {
     "data": {
      "text/plain": [
       "array([[0.96040404],\n",
       "       [0.91664636],\n",
       "       [0.77035856],\n",
       "       [0.76199806],\n",
       "       [0.90610325],\n",
       "       [0.92915344],\n",
       "       [0.9756737 ],\n",
       "       [0.95793045],\n",
       "       [0.8736659 ],\n",
       "       [0.3727181 ]], dtype=float32)"
      ]
     },
     "execution_count": 183,
     "metadata": {},
     "output_type": "execute_result"
    }
   ],
   "source": [
    "y_pred[:10]"
   ]
  },
  {
   "cell_type": "code",
   "execution_count": 184,
   "metadata": {},
   "outputs": [],
   "source": [
    "y_pred = y_pred.T[0]"
   ]
  },
  {
   "cell_type": "code",
   "execution_count": 185,
   "metadata": {},
   "outputs": [
    {
     "data": {
      "text/plain": [
       "array([0.96040404, 0.91664636, 0.77035856, 0.76199806, 0.90610325,\n",
       "       0.92915344, 0.9756737 , 0.95793045, 0.8736659 , 0.3727181 ],\n",
       "      dtype=float32)"
      ]
     },
     "execution_count": 185,
     "metadata": {},
     "output_type": "execute_result"
    }
   ],
   "source": [
    "y_pred[:10]"
   ]
  },
  {
   "cell_type": "code",
   "execution_count": 186,
   "metadata": {},
   "outputs": [],
   "source": [
    "cls_pred = np.array([1.0 if p>0.5 else 0.0 for p in y_pred])"
   ]
  },
  {
   "cell_type": "code",
   "execution_count": 187,
   "metadata": {},
   "outputs": [
    {
     "data": {
      "text/plain": [
       "array([1., 1., 1., 1., 1., 1., 1., 1., 1., 0.])"
      ]
     },
     "execution_count": 187,
     "metadata": {},
     "output_type": "execute_result"
    }
   ],
   "source": [
    "cls_pred[:10]"
   ]
  },
  {
   "cell_type": "code",
   "execution_count": 188,
   "metadata": {},
   "outputs": [],
   "source": [
    "cls_true = np.array(y_test[0:1000])"
   ]
  },
  {
   "cell_type": "code",
   "execution_count": 189,
   "metadata": {},
   "outputs": [],
   "source": [
    "incorrect = np.where(cls_pred != cls_true)"
   ]
  },
  {
   "cell_type": "code",
   "execution_count": 191,
   "metadata": {},
   "outputs": [
    {
     "data": {
      "text/plain": [
       "(array([  9,  13,  27,  28,  29,  30,  31,  37,  38,  39,  57,  58,  62,\n",
       "         63,  64,  82,  84,  87,  88,  89,  90, 118, 119, 137, 141, 144,\n",
       "        145, 146, 154, 156, 160, 162, 163, 164, 165, 195, 203, 209, 210,\n",
       "        215, 224, 226, 230, 232, 239, 242, 243, 244, 248, 249, 250, 254,\n",
       "        256, 257, 258, 270, 292, 293, 294, 295, 303, 306, 307, 312, 315,\n",
       "        331, 341, 343, 344, 346, 347, 354, 355, 356, 357, 359, 360, 367,\n",
       "        375, 393, 394, 405, 406, 408, 409, 437, 438, 439, 440, 441, 443,\n",
       "        454, 460, 461, 462, 463, 485, 504, 506, 512, 513, 519, 523, 524,\n",
       "        525, 543, 544, 595, 603, 604, 605, 606, 607, 608, 615, 646, 647,\n",
       "        648, 649, 650, 651, 654, 655, 663, 678, 685, 686, 687, 688, 694,\n",
       "        695, 696, 697, 698, 708, 710, 713, 718, 721, 722, 725, 726, 733,\n",
       "        734, 751, 766, 780, 790, 792, 793, 794, 795, 796, 812, 819, 822,\n",
       "        823, 829, 830, 831, 834, 835, 847, 856, 857, 870, 871, 874, 875,\n",
       "        887, 888, 889, 890, 891, 892, 893, 894, 895, 897, 898, 909, 915,\n",
       "        942, 943, 955, 956, 957, 961, 970, 974, 975, 982], dtype=int64),)"
      ]
     },
     "execution_count": 191,
     "metadata": {},
     "output_type": "execute_result"
    }
   ],
   "source": [
    "incorrect"
   ]
  },
  {
   "cell_type": "code",
   "execution_count": 192,
   "metadata": {},
   "outputs": [
    {
     "data": {
      "text/plain": [
       "array([  9,  13,  27,  28,  29,  30,  31,  37,  38,  39,  57,  58,  62,\n",
       "        63,  64,  82,  84,  87,  88,  89,  90, 118, 119, 137, 141, 144,\n",
       "       145, 146, 154, 156, 160, 162, 163, 164, 165, 195, 203, 209, 210,\n",
       "       215, 224, 226, 230, 232, 239, 242, 243, 244, 248, 249, 250, 254,\n",
       "       256, 257, 258, 270, 292, 293, 294, 295, 303, 306, 307, 312, 315,\n",
       "       331, 341, 343, 344, 346, 347, 354, 355, 356, 357, 359, 360, 367,\n",
       "       375, 393, 394, 405, 406, 408, 409, 437, 438, 439, 440, 441, 443,\n",
       "       454, 460, 461, 462, 463, 485, 504, 506, 512, 513, 519, 523, 524,\n",
       "       525, 543, 544, 595, 603, 604, 605, 606, 607, 608, 615, 646, 647,\n",
       "       648, 649, 650, 651, 654, 655, 663, 678, 685, 686, 687, 688, 694,\n",
       "       695, 696, 697, 698, 708, 710, 713, 718, 721, 722, 725, 726, 733,\n",
       "       734, 751, 766, 780, 790, 792, 793, 794, 795, 796, 812, 819, 822,\n",
       "       823, 829, 830, 831, 834, 835, 847, 856, 857, 870, 871, 874, 875,\n",
       "       887, 888, 889, 890, 891, 892, 893, 894, 895, 897, 898, 909, 915,\n",
       "       942, 943, 955, 956, 957, 961, 970, 974, 975, 982], dtype=int64)"
      ]
     },
     "execution_count": 192,
     "metadata": {},
     "output_type": "execute_result"
    }
   ],
   "source": [
    "incorrect[0]"
   ]
  },
  {
   "cell_type": "code",
   "execution_count": 193,
   "metadata": {},
   "outputs": [],
   "source": [
    "incorrect = incorrect[0]"
   ]
  },
  {
   "cell_type": "code",
   "execution_count": 194,
   "metadata": {},
   "outputs": [
    {
     "data": {
      "text/plain": [
       "192"
      ]
     },
     "execution_count": 194,
     "metadata": {},
     "output_type": "execute_result"
    }
   ],
   "source": [
    "len(incorrect)"
   ]
  },
  {
   "cell_type": "code",
   "execution_count": 195,
   "metadata": {},
   "outputs": [
    {
     "data": {
      "text/plain": [
       "9"
      ]
     },
     "execution_count": 195,
     "metadata": {},
     "output_type": "execute_result"
    }
   ],
   "source": [
    "idx = incorrect[0]\n",
    "idx"
   ]
  },
  {
   "cell_type": "code",
   "execution_count": 196,
   "metadata": {},
   "outputs": [
    {
     "data": {
      "text/plain": [
       "'should never forget'"
      ]
     },
     "execution_count": 196,
     "metadata": {},
     "output_type": "execute_result"
    }
   ],
   "source": [
    "text = x_test[idx]\n",
    "text"
   ]
  },
  {
   "cell_type": "code",
   "execution_count": 197,
   "metadata": {},
   "outputs": [
    {
     "data": {
      "text/plain": [
       "0.3727181"
      ]
     },
     "execution_count": 197,
     "metadata": {},
     "output_type": "execute_result"
    }
   ],
   "source": [
    "y_pred[idx]"
   ]
  },
  {
   "cell_type": "code",
   "execution_count": 198,
   "metadata": {},
   "outputs": [
    {
     "data": {
      "text/plain": [
       "1"
      ]
     },
     "execution_count": 198,
     "metadata": {},
     "output_type": "execute_result"
    }
   ],
   "source": [
    "cls_true[idx]"
   ]
  },
  {
   "cell_type": "code",
   "execution_count": 199,
   "metadata": {},
   "outputs": [
    {
     "data": {
      "text/plain": [
       "0.9223533"
      ]
     },
     "execution_count": 199,
     "metadata": {},
     "output_type": "execute_result"
    }
   ],
   "source": [
    "y_pred[13]"
   ]
  },
  {
   "cell_type": "code",
   "execution_count": 200,
   "metadata": {},
   "outputs": [
    {
     "data": {
      "text/plain": [
       "0"
      ]
     },
     "execution_count": 200,
     "metadata": {},
     "output_type": "execute_result"
    }
   ],
   "source": [
    "cls_true[13]"
   ]
  },
  {
   "cell_type": "code",
   "execution_count": 201,
   "metadata": {},
   "outputs": [
    {
     "data": {
      "text/plain": [
       "'is without doubt an artist of uncompromising vision , but that vision is beginning to feel ,'"
      ]
     },
     "execution_count": 201,
     "metadata": {},
     "output_type": "execute_result"
    }
   ],
   "source": [
    "x_test[13]"
   ]
  },
  {
   "cell_type": "code",
   "execution_count": null,
   "metadata": {},
   "outputs": [],
   "source": []
  }
 ],
 "metadata": {
  "kernelspec": {
   "display_name": "Python 3",
   "language": "python",
   "name": "python3"
  },
  "language_info": {
   "codemirror_mode": {
    "name": "ipython",
    "version": 3
   },
   "file_extension": ".py",
   "mimetype": "text/x-python",
   "name": "python",
   "nbconvert_exporter": "python",
   "pygments_lexer": "ipython3",
   "version": "3.7.4"
  }
 },
 "nbformat": 4,
 "nbformat_minor": 4
}
